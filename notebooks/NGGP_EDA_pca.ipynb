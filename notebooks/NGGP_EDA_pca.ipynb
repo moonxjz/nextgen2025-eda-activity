{
 "cells": [
  {
   "cell_type": "code",
   "execution_count": null,
   "metadata": {
    "colab": {
     "base_uri": "https://localhost:8080/"
    },
    "executionInfo": {
     "elapsed": 1921,
     "status": "ok",
     "timestamp": 1706160649740,
     "user": {
      "displayName": "Ainura Tursunalieva",
      "userId": "16647746109177686734"
     },
     "user_tz": -660
    },
    "id": "ewxvZV6LIvTW",
    "outputId": "fcf2b9b9-7529-4ea7-84bb-08aefca7ece5"
   },
   "outputs": [],
   "source": [
    "# Dbreast_cancer data\n",
    "from sklearn.datasets import load_breast_cancer\n",
    "breast_cancer = load_breast_cancer()\n",
    "X = breast_cancer.data\n",
    "#check the dimensions of the dataset\n",
    "X.shape"
   ]
  },
  {
   "cell_type": "code",
   "execution_count": null,
   "metadata": {
    "colab": {
     "base_uri": "https://localhost:8080/",
     "height": 1000
    },
    "executionInfo": {
     "elapsed": 4956,
     "status": "ok",
     "timestamp": 1706160682344,
     "user": {
      "displayName": "Ainura Tursunalieva",
      "userId": "16647746109177686734"
     },
     "user_tz": -660
    },
    "id": "zxO5KP-K_9tj",
    "outputId": "024d5455-6a6f-40b6-9bc1-95d49a2d254f"
   },
   "outputs": [],
   "source": [
    "#SLIDE 15 AND 16\n",
    "# Import necessary libraries\n",
    "import numpy as np\n",
    "import pandas as pd\n",
    "import matplotlib.pyplot as plt\n",
    "import seaborn as sns\n",
    "from sklearn.datasets import load_breast_cancer\n",
    "\n",
    "# Load the Breast Cancer dataset\n",
    "breast_cancer = load_breast_cancer()\n",
    "X = breast_cancer.data\n",
    "y = breast_cancer.target\n",
    "\n",
    "# Convert to DataFrame for better visualization (optional)\n",
    "df = pd.DataFrame(data=np.c_[X, y], columns=list(breast_cancer.feature_names) + ['target'])\n",
    "\n",
    "# Calculate the covariance matrix\n",
    "cov_matrix = np.cov(X, rowvar=False)\n",
    "\n",
    "# Display the covariance matrix\n",
    "print(\"Covariance Matrix:\")\n",
    "print(cov_matrix)\n",
    "\n",
    "# Perform eigendecomposition\n",
    "eigenvalues, eigenvectors = np.linalg.eig(cov_matrix)\n",
    "\n",
    "# Display the eigenvalues\n",
    "print(\"\\nEigenvalues:\")\n",
    "print(eigenvalues)\n",
    "\n",
    "# Display the eigenvectors\n",
    "print(\"\\nEigenvectors:\")\n",
    "print(eigenvectors)\n",
    "\n",
    "# Visualize class distribution\n",
    "plt.figure(figsize=(8, 5))\n",
    "sns.countplot(x='target', hue='target', data=df, palette='viridis')\n",
    "plt.title('Class Distribution in Breast Cancer Dataset')\n",
    "plt.show()\n",
    "\n",
    "# Visualize correlation between features with correlation coefficient values\n",
    "plt.figure(figsize=(12, 10))\n",
    "\n",
    "# Set the font size for correlation coefficients\n",
    "annot_kws = {\"size\": 8}\n",
    "\n",
    "heatmap = sns.heatmap(df.corr(), cmap='coolwarm', annot=True, fmt='.2f', linewidths=0.5, annot_kws=annot_kws)\n",
    "plt.title('Correlation Heatmap with Coefficient Values')\n",
    "\n",
    "# Add color bar legend\n",
    "cbar = heatmap.collections[0].colorbar\n",
    "cbar.set_ticks([-1, -0.5, 0, 0.5, 1])\n",
    "\n",
    "plt.show()\n"
   ]
  },
  {
   "cell_type": "code",
   "execution_count": null,
   "metadata": {
    "colab": {
     "base_uri": "https://localhost:8080/",
     "height": 941
    },
    "executionInfo": {
     "elapsed": 3081,
     "status": "ok",
     "timestamp": 1705967331212,
     "user": {
      "displayName": "Ainura Tursunalieva",
      "userId": "16647746109177686734"
     },
     "user_tz": -660
    },
    "id": "iXkapulsf982",
    "outputId": "007f52c4-dd34-447a-a2de-113c7498f599"
   },
   "outputs": [],
   "source": [
    "#SLIDE 17\n",
    "import numpy as np\n",
    "import pandas as pd\n",
    "import matplotlib.pyplot as plt\n",
    "import seaborn as sns\n",
    "from sklearn.datasets import load_breast_cancer\n",
    "from sklearn.preprocessing import StandardScaler\n",
    "from sklearn.decomposition import PCA\n",
    "\n",
    "# Load the Breast Cancer dataset\n",
    "breast_cancer = load_breast_cancer()\n",
    "X = breast_cancer.data\n",
    "y = breast_cancer.target\n",
    "\n",
    "# Select two features for visualization\n",
    "feature1_index = 0\n",
    "feature2_index = 7\n",
    "\n",
    "# Extract the selected features\n",
    "X_selected = X[:, [feature1_index, feature2_index]]\n",
    "\n",
    "# Standardize the features (important for PCA)\n",
    "scaler = StandardScaler()\n",
    "X_standardized = scaler.fit_transform(X_selected)\n",
    "\n",
    "# Apply PCA\n",
    "pca = PCA()\n",
    "X_pca = pca.fit_transform(X_standardized)\n",
    "\n",
    "# Convert NumPy arrays to DataFrames\n",
    "df_original = pd.DataFrame(X_selected, columns=[f'Feature_{i+1}' for i in range(X_selected.shape[1])])\n",
    "df_standardized = pd.DataFrame(X_standardized, columns=[f'Feature_{i+1}' for i in range(X_standardized.shape[1])])\n",
    "df_pca = pd.DataFrame(X_pca, columns=['Principal_Component_1', 'Principal_Component_2'])\n",
    "\n",
    "# Plot the original and transformed data points side by side with density plots\n",
    "fig, axs = plt.subplots(2, 2, figsize=(12, 9))\n",
    "\n",
    "# Plot the original data points\n",
    "for label in np.unique(y):\n",
    "    axs[0, 0].scatter(X_standardized[y == label, 0], X_standardized[y == label, 1], label=f'Class {label}', edgecolor='k', alpha=0.8)\n",
    "axs[0, 0].set_title('Original Data Points')\n",
    "axs[0, 0].set_xlabel(f'Feature {feature1_index + 1}')\n",
    "axs[0, 0].set_ylabel(f'Feature {feature2_index + 1}')\n",
    "axs[0, 0].legend()\n",
    "axs[0, 0].grid(True)\n",
    "\n",
    "# Plot the transformed data points after PCA\n",
    "for label in np.unique(y):\n",
    "    axs[0, 1].scatter(X_pca[y == label, 0], X_pca[y == label, 1], label=f'Class {label}', edgecolor='k', alpha=0.8)\n",
    "axs[0, 1].set_title('Transformed Data Points after PCA')\n",
    "axs[0, 1].set_xlabel('Principal Component 1')\n",
    "axs[0, 1].set_ylabel('Principal Component 2')\n",
    "axs[0, 1].legend()\n",
    "axs[0, 1].grid(True)\n",
    "\n",
    "# Plot density plots for original data with both features\n",
    "for label in np.unique(y):\n",
    "    sns.kdeplot(data=df_original[y == label], x='Feature_1', y='Feature_2', ax=axs[1, 0], fill=True, alpha=0.5, label=f'Class {label}')\n",
    "axs[1, 0].set_title('Density Plot of Original Data (Features 1 and 8)')\n",
    "axs[1, 0].set_xlabel(f'Feature {feature1_index + 1}')\n",
    "axs[1, 0].set_ylabel(f'Feature {feature2_index + 1}')\n",
    "axs[1, 0].grid(True)\n",
    "\n",
    "# Assuming X_original is the original dataset you want to compare\n",
    "# Define the feature_indices you want to compare\n",
    "feature_indices = [0, 1]\n",
    "\n",
    "# Original Data\n",
    "df_original = pd.DataFrame(X[:, feature_indices], columns=[f'Feature_{i+1}' for i in feature_indices])\n",
    "\n",
    "# Standardize the data for comparison\n",
    "scaler_comparison = StandardScaler()\n",
    "X_standardized_comparison = scaler_comparison.fit_transform(X[:, feature_indices])\n",
    "df_standardized_comparison = pd.DataFrame(X_standardized_comparison, columns=[f'Feature_{i+1}' for i in feature_indices])\n",
    "\n",
    "# Plot density plots for standardized data for comparison\n",
    "for label in np.unique(y):\n",
    "    sns.kdeplot(data=df_standardized_comparison[y == label], x='Feature_1', y='Feature_2', ax=axs[1, 1], fill=True, alpha=0.5, label=f'Class {label}')\n",
    "axs[1, 1].set_title('Density Plot of Standardized Data for Comparison')\n",
    "axs[1, 1].set_xlabel(f'Feature {feature1_index + 1}')\n",
    "axs[1, 1].set_ylabel(f'Feature {feature2_index + 1}')\n",
    "axs[1, 1].grid(True)\n",
    "\n",
    "# Add legends separately\n",
    "axs[1, 0].legend()\n",
    "axs[1, 1].legend()\n",
    "\n",
    "# Adjust layout\n",
    "plt.tight_layout()\n",
    "plt.show()\n"
   ]
  },
  {
   "cell_type": "code",
   "execution_count": null,
   "metadata": {
    "colab": {
     "base_uri": "https://localhost:8080/"
    },
    "executionInfo": {
     "elapsed": 339,
     "status": "ok",
     "timestamp": 1705981688687,
     "user": {
      "displayName": "Ainura Tursunalieva",
      "userId": "16647746109177686734"
     },
     "user_tz": -660
    },
    "id": "nOBWGuc6bZUV",
    "outputId": "65ef9931-f534-4598-968d-73276a60dd9c"
   },
   "outputs": [],
   "source": [
    "#SLIDE 18\n",
    "import numpy as np\n",
    "from sklearn.datasets import load_breast_cancer\n",
    "from sklearn.preprocessing import StandardScaler\n",
    "from sklearn.decomposition import PCA\n",
    "\n",
    "# Load the Breast Cancer dataset\n",
    "breast_cancer = load_breast_cancer()\n",
    "X = breast_cancer.data\n",
    "\n",
    "# Standardize the features\n",
    "X_standardized = StandardScaler().fit_transform(X)\n",
    "\n",
    "# Perform PCA\n",
    "pca = PCA()\n",
    "principal_components = pca.fit_transform(X_standardized)\n",
    "\n",
    "# Get the coefficients for the first principal component (PC1)\n",
    "coef_pc1 = pca.components_[0]\n",
    "\n",
    "# Display the rounded coefficients\n",
    "print(\"Coefficients for PC1:\")\n",
    "print(np.round(coef_pc1, 2))\n",
    "\n",
    "# Construct the equation for PC1\n",
    "equation_pc1 = \"PC1 = \"\n",
    "for i, coef in enumerate(coef_pc1):\n",
    "    equation_pc1 += f\"{np.round(coef, 2)} * X{i+1} + \" if i < len(coef_pc1) - 1 else f\"{np.round(coef, 2)} * X{i+1}\"\n",
    "\n",
    "# Display the equation for PC1\n",
    "print(\"\\nEquation for PC1:\")\n",
    "print(equation_pc1)\n",
    "\n",
    "# Substitute the first samples of each feature into the equation for PC1\n",
    "first_samples = X_standardized[0, :]\n",
    "pc1_value = np.dot(first_samples, coef_pc1)\n",
    "\n",
    "# Display the result\n",
    "print(\"\\nPC1 Value for the First Sample:\")\n",
    "print(np.round(pc1_value, 4))\n",
    "\n",
    "# Display the explanation for how the first eigenvalue is computed\n",
    "print(\"\\nExplanation for Computing the First Eigenvalue:\")\n",
    "print(\"The first eigenvalue is the amount of variance captured by the first principal component (PC1).\")\n",
    "print(\"It is obtained from the diagonal element of the covariance matrix of the standardized data.\")\n",
    "print(\"Mathematically, the first eigenvalue is equal to the square of the length (norm) of the first eigenvector (PC1).\")\n",
    "print(f\"First Eigenvalue: {np.round(pca.explained_variance_[0], 4)}\")\n",
    "\n"
   ]
  },
  {
   "cell_type": "code",
   "execution_count": null,
   "metadata": {
    "colab": {
     "base_uri": "https://localhost:8080/",
     "height": 607
    },
    "executionInfo": {
     "elapsed": 4073,
     "status": "ok",
     "timestamp": 1705899329660,
     "user": {
      "displayName": "Ainura Tursunalieva",
      "userId": "16647746109177686734"
     },
     "user_tz": -660
    },
    "id": "lEf6z4hGTdbA",
    "outputId": "0a6882e8-b17b-489a-90b2-7e1af0c17074"
   },
   "outputs": [],
   "source": [
    "#SLIDE 20 AND 21\n",
    "import numpy as np\n",
    "import matplotlib.pyplot as plt\n",
    "from sklearn.datasets import load_breast_cancer\n",
    "from sklearn.preprocessing import StandardScaler\n",
    "from sklearn.decomposition import PCA\n",
    "\n",
    "# Load the Breast Cancer dataset\n",
    "breast_cancer = load_breast_cancer()\n",
    "X = breast_cancer.data\n",
    "\n",
    "# Standardize the features\n",
    "X_standardized = StandardScaler().fit_transform(X)\n",
    "\n",
    "# Perform PCA\n",
    "pca = PCA()\n",
    "principal_components = pca.fit_transform(X_standardized)\n",
    "\n",
    "# Get the eigenvalues and explained variance ratios\n",
    "eigenvalues = pca.explained_variance_\n",
    "explained_variance_ratio = pca.explained_variance_ratio_\n",
    "\n",
    "# Scree Plot\n",
    "plt.figure(figsize=(15, 6))\n",
    "plt.subplot(1, 2, 1)\n",
    "plt.plot(range(1, len(eigenvalues) + 1), eigenvalues, marker='o', linestyle='-', color='b')\n",
    "plt.axvline(x=7, color='r', linestyle='--', label='k = 7')  # Vertical line at k = 7\n",
    "plt.title('Scree Plot')\n",
    "plt.xlabel('Principal Component')\n",
    "plt.ylabel('Eigenvalue')\n",
    "plt.legend()\n",
    "plt.grid(True)\n",
    "\n",
    "# Cumulative Explained Variance Ratio Plot\n",
    "plt.subplot(1, 2, 2)\n",
    "plt.plot(range(1, len(explained_variance_ratio) + 1), np.cumsum(explained_variance_ratio), marker='o', linestyle='-', color='b')\n",
    "threshold_index = np.argmax(np.cumsum(explained_variance_ratio) >= 0.95) + 1\n",
    "plt.axvline(x=threshold_index, color='r', linestyle='--', label='95% Threshold')  # Vertical line at threshold\n",
    "plt.title('Cumulative Explained Variance Ratio')\n",
    "plt.xlabel('Number of Principal Components')\n",
    "plt.ylabel('Cumulative Explained Variance Ratio')\n",
    "plt.legend()\n",
    "plt.grid(True)\n",
    "\n",
    "plt.tight_layout()\n",
    "plt.show()\n"
   ]
  },
  {
   "cell_type": "code",
   "execution_count": null,
   "metadata": {
    "colab": {
     "base_uri": "https://localhost:8080/"
    },
    "executionInfo": {
     "elapsed": 357,
     "status": "ok",
     "timestamp": 1705897694826,
     "user": {
      "displayName": "Ainura Tursunalieva",
      "userId": "16647746109177686734"
     },
     "user_tz": -660
    },
    "id": "EK9vhTVkbQQ8",
    "outputId": "c60acb94-4de0-4537-9a12-bbf545af0a53"
   },
   "outputs": [],
   "source": [
    "import pandas as pd\n",
    "import numpy as np\n",
    "from sklearn.datasets import load_breast_cancer\n",
    "from sklearn.preprocessing import StandardScaler\n",
    "from sklearn.decomposition import PCA\n",
    "\n",
    "# Load the Breast Cancer dataset\n",
    "breast_cancer = load_breast_cancer()\n",
    "X = breast_cancer.data\n",
    "feature_names = breast_cancer.feature_names\n",
    "\n",
    "# Create a DataFrame for the original features\n",
    "features = pd.DataFrame(X, columns=feature_names)\n",
    "\n",
    "# Standardize the features\n",
    "X_standardized = StandardScaler().fit_transform(X)\n",
    "\n",
    "# Perform PCA\n",
    "pca = PCA()\n",
    "principal_components = pca.fit_transform(X_standardized)\n",
    "\n",
    "# Create a DataFrame for principal component coefficients\n",
    "df_comp = pd.DataFrame(pca.components_, index=[f'PC{i+1}' for i in range(pca.n_components_)], columns=features.columns)\n",
    "\n",
    "# Display the DataFrame\n",
    "print(\"DataFrame with Principal Component Coefficients:\")\n",
    "print(df_comp)\n"
   ]
  },
  {
   "cell_type": "code",
   "execution_count": null,
   "metadata": {
    "colab": {
     "base_uri": "https://localhost:8080/",
     "height": 1000
    },
    "executionInfo": {
     "elapsed": 5860,
     "status": "ok",
     "timestamp": 1705901215932,
     "user": {
      "displayName": "Ainura Tursunalieva",
      "userId": "16647746109177686734"
     },
     "user_tz": -660
    },
    "id": "qeGgInp4iImO",
    "outputId": "708f4acb-f103-4f90-8896-bf0b0ba54b8b"
   },
   "outputs": [],
   "source": [
    "#SLIDE 22\n",
    "import numpy as np\n",
    "import matplotlib.pyplot as plt\n",
    "import seaborn as sns\n",
    "import pandas as pd\n",
    "from sklearn.datasets import load_breast_cancer\n",
    "from sklearn.preprocessing import StandardScaler\n",
    "from sklearn.decomposition import PCA\n",
    "\n",
    "# Load the Breast Cancer dataset\n",
    "breast_cancer = load_breast_cancer()\n",
    "X = breast_cancer.data\n",
    "feature_names = breast_cancer.feature_names\n",
    "\n",
    "# Standardize the features\n",
    "X_standardized = StandardScaler().fit_transform(X)\n",
    "\n",
    "# Perform PCA with 7 components\n",
    "num_components = 7\n",
    "pca = PCA(n_components=num_components)\n",
    "principal_components = pca.fit_transform(X_standardized)\n",
    "\n",
    "# Create DataFrames for the coefficients of the first 7 principal components\n",
    "df_coef_pcs = pd.DataFrame(pca.components_[:num_components].T, columns=[f'PC{i+1}' for i in range(num_components)], index=feature_names)\n",
    "\n",
    "# Bar Plots for the first 7 PCs\n",
    "plt.figure(figsize=(15, 10))\n",
    "for i in range(num_components):\n",
    "    plt.subplot(2, 4, i+1)\n",
    "    sns.barplot(x=df_coef_pcs[f'PC{i+1}'], y=df_coef_pcs.index, hue=df_coef_pcs.index, palette='viridis')\n",
    "    plt.title(f'Principal Component {i+1}')\n",
    "\n",
    "plt.tight_layout()\n",
    "plt.show()\n"
   ]
  },
  {
   "cell_type": "code",
   "execution_count": null,
   "metadata": {
    "colab": {
     "base_uri": "https://localhost:8080/"
    },
    "executionInfo": {
     "elapsed": 483,
     "status": "ok",
     "timestamp": 1705901262819,
     "user": {
      "displayName": "Ainura Tursunalieva",
      "userId": "16647746109177686734"
     },
     "user_tz": -660
    },
    "id": "5m_aqfy8jIsL",
    "outputId": "72b50891-f5a0-40b8-a9c8-3d1518f1efe7"
   },
   "outputs": [],
   "source": [
    "print(df_coef_pcs)"
   ]
  },
  {
   "cell_type": "code",
   "execution_count": null,
   "metadata": {
    "colab": {
     "base_uri": "https://localhost:8080/",
     "height": 1000
    },
    "executionInfo": {
     "elapsed": 1664,
     "status": "ok",
     "timestamp": 1705902681427,
     "user": {
      "displayName": "Ainura Tursunalieva",
      "userId": "16647746109177686734"
     },
     "user_tz": -660
    },
    "id": "2cD29b8tnRvE",
    "outputId": "099c718e-07eb-4207-973a-8c42217d7bac"
   },
   "outputs": [],
   "source": [
    "#SLIDE 23\n",
    "import pandas as pd\n",
    "import numpy as np\n",
    "import seaborn as sns\n",
    "import matplotlib.pyplot as plt\n",
    "from sklearn.datasets import load_breast_cancer\n",
    "from sklearn.preprocessing import StandardScaler\n",
    "from sklearn.decomposition import PCA\n",
    "\n",
    "# Load the Breast Cancer dataset\n",
    "breast_cancer = load_breast_cancer()\n",
    "X = breast_cancer.data\n",
    "y = breast_cancer.target\n",
    "feature_names = breast_cancer.feature_names\n",
    "\n",
    "# Standardize the features\n",
    "X_standardized = StandardScaler().fit_transform(X)\n",
    "\n",
    "# Perform PCA with 7 components\n",
    "pca = PCA(n_components=7)\n",
    "principal_components = pca.fit_transform(X_standardized)\n",
    "\n",
    "# Create a DataFrame combining PCs and target feature\n",
    "df_pcs = pd.DataFrame(data=np.c_[principal_components, y], columns=[f'PC{i+1}' for i in range(7)] + ['target'])\n",
    "\n",
    "# Plot bar plot for mean values\n",
    "plt.figure(figsize=(12, 6))\n",
    "sns.barplot(\n",
    "    data=df_pcs.groupby('target').mean().stack().reset_index(name='value'),\n",
    "    x='level_1',\n",
    "    y='value',\n",
    "    hue='target',\n",
    "    palette='viridis'\n",
    ")\n",
    "plt.title('Mean Values of Principal Components for Malignant and Benign Tumors')\n",
    "plt.xlabel('Principal Components')\n",
    "plt.ylabel('Mean Value')\n",
    "plt.legend(title='Target', labels=['Malignant (0.0)', 'Benign (1.0)'])\n",
    "plt.show()\n",
    "\n",
    "# Plot bar plot for standard deviation values\n",
    "plt.figure(figsize=(12, 6))\n",
    "sns.barplot(\n",
    "    data=df_pcs.groupby('target').std().stack().reset_index(name='value'),\n",
    "    x='level_1',\n",
    "    y='value',\n",
    "    hue='target',\n",
    "    palette='viridis'\n",
    ")\n",
    "plt.title('Standard Deviation Values of Principal Components for Malignant and Benign Tumors')\n",
    "plt.xlabel('Principal Components')\n",
    "plt.ylabel('Standard Deviation')\n",
    "plt.legend(title='Target', labels=['Malignant (0.0)', 'Benign (1.0)'])\n",
    "plt.show()\n"
   ]
  },
  {
   "cell_type": "code",
   "execution_count": null,
   "metadata": {},
   "outputs": [],
   "source": []
  }
 ],
 "metadata": {
  "colab": {
   "authorship_tag": "ABX9TyOsXAlCaieajqyPmZlto3PO",
   "history_visible": true,
   "provenance": []
  },
  "kernelspec": {
   "display_name": "Python 3",
   "name": "python3"
  },
  "language_info": {
   "codemirror_mode": {
    "name": "ipython",
    "version": 3
   },
   "file_extension": ".py",
   "mimetype": "text/x-python",
   "name": "python",
   "nbconvert_exporter": "python",
   "pygments_lexer": "ipython3",
   "version": "3.10.11"
  }
 },
 "nbformat": 4,
 "nbformat_minor": 0
}
